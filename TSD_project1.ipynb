{
  "nbformat": 4,
  "nbformat_minor": 0,
  "metadata": {
    "colab": {
      "provenance": []
    },
    "kernelspec": {
      "name": "python3",
      "display_name": "Python 3"
    },
    "language_info": {
      "name": "python"
    }
  },
  "cells": [
    {
      "cell_type": "code",
      "execution_count": null,
      "metadata": {
        "id": "IIFsthGoMiuo"
      },
      "outputs": [],
      "source": [
        "import requests\n",
        "import pandas as pd\n",
        "import time\n",
        "\n",
        "# Authentication for GitHub API\n",
        "headers = {'Authorization': 'token -'}\n"
      ]
    },
    {
      "cell_type": "code",
      "source": [
        "# Helper function to clean up company names\n",
        "def clean_company_name(company):\n",
        "    if company:\n",
        "        company = company.strip().lstrip('@').upper()\n",
        "    return company\n"
      ],
      "metadata": {
        "id": "L_F1AGW9wUwZ"
      },
      "execution_count": null,
      "outputs": []
    },
    {
      "cell_type": "code",
      "source": [
        "def fetch_users(city=\"Barcelona\", min_followers=100):\n",
        "    users = []\n",
        "    page = 1\n",
        "\n",
        "    while True:\n",
        "        url = f\"https://api.github.com/search/users?q=location:{city}+followers:>{min_followers}&page={page}&per_page=100\"\n",
        "        response = requests.get(url, headers=headers)\n",
        "        data = response.json()\n",
        "\n",
        "        # Break if no more results\n",
        "        if 'items' not in data or not data['items']:\n",
        "            break\n",
        "\n",
        "        for user in data['items']:\n",
        "            # Get full user info\n",
        "            user_url = user['url']\n",
        "            user_response = requests.get(user_url, headers=headers)\n",
        "            user_data = user_response.json()\n",
        "\n",
        "            # Extract required fields\n",
        "            users.append({\n",
        "                'login': user_data['login'],\n",
        "                'name': user_data['name'],\n",
        "                'company': clean_company_name(user_data['company']),\n",
        "                'location': user_data['location'],\n",
        "                'email': user_data['email'],\n",
        "                'hireable': user_data['hireable'],\n",
        "                'bio': user_data['bio'],\n",
        "                'public_repos': user_data['public_repos'],\n",
        "                'followers': user_data['followers'],\n",
        "                'following': user_data['following'],\n",
        "                'created_at': user_data['created_at'],\n",
        "            })\n",
        "        page += 1\n",
        "        time.sleep(1)  # Avoid hitting API rate limits\n",
        "\n",
        "    return users"
      ],
      "metadata": {
        "id": "ZhzKsex7k--i"
      },
      "execution_count": null,
      "outputs": []
    },
    {
      "cell_type": "code",
      "source": [
        "users = fetch_users()\n",
        "users_df = pd.DataFrame(users)\n",
        "users_df.to_csv('users.csv', index=False)"
      ],
      "metadata": {
        "id": "WVuYpSOs8Cwx"
      },
      "execution_count": null,
      "outputs": []
    },
    {
      "cell_type": "code",
      "source": [
        "# Function to fetch repositories for a user\n",
        "def fetch_repositories(user_login):\n",
        "    repositories = []\n",
        "    page = 1\n",
        "\n",
        "    while True:\n",
        "        url = f\"https://api.github.com/users/{user_login}/repos?per_page=100&page={page}\"\n",
        "        response = requests.get(url, headers=headers)\n",
        "        repo_data = response.json()\n",
        "\n",
        "        # Break if no more repositories\n",
        "        if not repo_data:\n",
        "            break\n",
        "\n",
        "        for repo in repo_data:\n",
        "            repositories.append({\n",
        "                'login': user_login,\n",
        "                'full_name': repo['full_name'],\n",
        "                'created_at': repo['created_at'],\n",
        "                'stargazers_count': repo['stargazers_count'],\n",
        "                'watchers_count': repo['watchers_count'],\n",
        "                'language': repo['language'],\n",
        "                'has_projects': repo['has_projects'],\n",
        "                'has_wiki': repo['has_wiki'],\n",
        "                'license_name': repo['license']['key'] if repo['license'] else None,\n",
        "            })\n",
        "\n",
        "        # If fewer than 100 repositories are returned, it means we're on the last page\n",
        "        if len(repo_data) < 100:\n",
        "            break\n",
        "\n",
        "        page += 1  # Move to the next page\n",
        "        time.sleep(1)  # Avoid hitting API rate limits\n",
        "\n",
        "    return repositories\n",
        "\n",
        "\n"
      ],
      "metadata": {
        "id": "tSPm0iTBlH7f"
      },
      "execution_count": null,
      "outputs": []
    },
    {
      "cell_type": "code",
      "source": [
        "all_repositories = []\n",
        "for user in users:\n",
        "    user_repos = fetch_repositories(user[\"login\"])\n",
        "    all_repositories.extend(user_repos)"
      ],
      "metadata": {
        "colab": {
          "base_uri": "https://localhost:8080/"
        },
        "id": "hlHSf7UHwxt3",
        "outputId": "1353250e-f549-4bb0-cbca-40b3c20c3c68"
      },
      "execution_count": null,
      "outputs": [
        {
          "output_type": "stream",
          "name": "stdout",
          "text": [
            "Fetched 194 repositories for user midudev\n",
            "Fetched 85 repositories for user ai\n",
            "Fetched 26 repositories for user raysan5\n",
            "Fetched 451 repositories for user vfarcic\n",
            "Fetched 135 repositories for user spite\n",
            "Fetched 15 repositories for user LeCoupa\n",
            "Fetched 72 repositories for user peduarte\n",
            "Fetched 4 repositories for user jk4freedom\n",
            "Fetched 127 repositories for user facontidavide\n",
            "Fetched 22 repositories for user carloscuesta\n",
            "Fetched 191 repositories for user gaborcsardi\n",
            "Fetched 18 repositories for user amix\n",
            "Fetched 35 repositories for user fxn\n",
            "Fetched 14 repositories for user iturbides\n",
            "Fetched 5 repositories for user rgomezcasas\n",
            "Fetched 9 repositories for user cfenollosa\n",
            "Fetched 24 repositories for user csorlandi\n",
            "Fetched 349 repositories for user wlsf82\n",
            "Fetched 5 repositories for user alexfarrerodev\n",
            "Fetched 463 repositories for user ajsb85\n",
            "Fetched 56 repositories for user carlosbuenosvinos\n",
            "Fetched 67 repositories for user mariodev12\n",
            "Fetched 200 repositories for user chicoxyzzy\n",
            "Fetched 27 repositories for user JavierCane\n",
            "Fetched 90 repositories for user hecrj\n",
            "Fetched 35 repositories for user jagenjo\n",
            "Fetched 101 repositories for user humitos\n",
            "Fetched 21 repositories for user JoelGMSec\n",
            "Fetched 86 repositories for user carmenansio\n",
            "Fetched 94 repositories for user oleganza\n",
            "Fetched 27 repositories for user marticliment\n",
            "Fetched 36 repositories for user RobertTLange\n",
            "Fetched 71 repositories for user alvarobartt\n",
            "Fetched 6 repositories for user panzerdp\n",
            "Fetched 77 repositories for user httptoolkit\n",
            "Fetched 225 repositories for user pimterry\n",
            "Fetched 19 repositories for user mcornella\n",
            "Fetched 38 repositories for user MarioVilas\n",
            "Fetched 23 repositories for user glomadrian\n",
            "Fetched 288 repositories for user a0viedo\n",
            "Fetched 79 repositories for user rafeca\n",
            "Fetched 19 repositories for user KikoPalomares\n",
            "Fetched 46 repositories for user gavinking\n",
            "Fetched 349 repositories for user lordofthejars\n",
            "Fetched 40 repositories for user adilmoujahid\n",
            "Fetched 43 repositories for user nuria-fl\n",
            "Fetched 98 repositories for user robertohuertasm\n",
            "Fetched 183 repositories for user pditommaso\n",
            "Fetched 77 repositories for user kittylyst\n",
            "Fetched 50 repositories for user ubiratansoares\n",
            "Fetched 35 repositories for user gemartin99\n",
            "Fetched 58 repositories for user delacruz-dev\n",
            "Fetched 225 repositories for user mildsunrise\n",
            "Fetched 56 repositories for user poliva\n",
            "Fetched 118 repositories for user xoseperez\n",
            "Fetched 343 repositories for user victorb\n",
            "Fetched 78 repositories for user YousefED\n",
            "Fetched 48 repositories for user jorditorresBCN\n",
            "Fetched 19 repositories for user arielcamus\n",
            "Fetched 374 repositories for user rubiojr\n",
            "Fetched 125 repositories for user alvarosabu\n",
            "Fetched 305 repositories for user awesomebytes\n",
            "Fetched 86 repositories for user sergiandreplace\n",
            "Fetched 291 repositories for user tcorral\n",
            "Fetched 28 repositories for user Alan-TheGentleman\n",
            "Fetched 22 repositories for user marinaaisa\n",
            "Fetched 120 repositories for user edgarriba\n",
            "Fetched 46 repositories for user clintongormley\n",
            "Fetched 83 repositories for user LemonHX\n",
            "Fetched 117 repositories for user ctford\n",
            "Fetched 180 repositories for user gravityblast\n",
            "Fetched 232 repositories for user ngryman\n",
            "Fetched 36 repositories for user i-am-tom\n",
            "Fetched 43 repositories for user yurimutti\n",
            "Fetched 72 repositories for user Etiene\n",
            "Fetched 15 repositories for user markets\n",
            "Fetched 92 repositories for user davesnx\n",
            "Fetched 16 repositories for user JavascriptDeNoobAPro\n",
            "Fetched 99 repositories for user microbuilder\n",
            "Fetched 205 repositories for user marc2332\n",
            "Fetched 90 repositories for user martinezjavier\n",
            "Fetched 50 repositories for user aralroca\n",
            "Fetched 108 repositories for user CKGrafico\n",
            "Fetched 189 repositories for user theofidry\n",
            "Fetched 78 repositories for user bezael\n",
            "Fetched 36 repositories for user serudda\n",
            "Fetched 145 repositories for user julianxhokaxhiu\n",
            "Fetched 118 repositories for user blixt\n",
            "Fetched 788 repositories for user kinow\n",
            "Fetched 106 repositories for user faermanj\n",
            "Fetched 33 repositories for user txusballesteros\n",
            "Fetched 147 repositories for user kantord\n",
            "Fetched 61 repositories for user marcossevilla\n",
            "Fetched 50 repositories for user R0rt1z2\n",
            "Fetched 35 repositories for user mmoreram\n",
            "Fetched 134 repositories for user MTG\n",
            "Fetched 57 repositories for user brushknight\n",
            "Fetched 34 repositories for user mezod\n",
            "Fetched 46 repositories for user AliAbdelaal\n",
            "Fetched 56 repositories for user kaikcreator\n",
            "Fetched 33 repositories for user santi-pdp\n",
            "Fetched 32 repositories for user theUniC\n",
            "Fetched 136 repositories for user sergi\n",
            "Fetched 4 repositories for user alorma\n",
            "Fetched 83 repositories for user Hamadabcn\n",
            "Fetched 335 repositories for user areski\n",
            "Fetched 242 repositories for user brunojppb\n",
            "Fetched 88 repositories for user javierarce\n",
            "Fetched 196 repositories for user dianavile\n",
            "Fetched 77 repositories for user DanielEspanadero\n",
            "Fetched 53 repositories for user LaQuay\n",
            "Fetched 167 repositories for user johnnynunez\n",
            "Fetched 12 repositories for user erocarrera\n",
            "Fetched 31 repositories for user salmar\n",
            "Fetched 29 repositories for user AlexandraKon\n",
            "Fetched 6 repositories for user fatchord\n",
            "Fetched 208 repositories for user romulocintra\n",
            "Fetched 12 repositories for user mcreel\n",
            "Fetched 119 repositories for user Egorand\n",
            "Fetched 7 repositories for user joansola\n",
            "Fetched 44 repositories for user Vanlightly\n",
            "Fetched 120 repositories for user carlosvillu\n",
            "Fetched 68 repositories for user fraguada\n",
            "Fetched 5 repositories for user vscode-icons\n",
            "Fetched 108 repositories for user KELiON\n",
            "Fetched 29 repositories for user ricardclau\n",
            "Fetched 23 repositories for user methodofaction\n",
            "Fetched 2 repositories for user xserra\n",
            "Fetched 165 repositories for user AndreMiras\n",
            "Fetched 122 repositories for user am-kantox\n",
            "Fetched 21 repositories for user jordipons\n",
            "Fetched 45 repositories for user alombarte\n",
            "Fetched 95 repositories for user douglascamata\n",
            "Fetched 63 repositories for user taylanpince\n",
            "Fetched 344 repositories for user horacioh\n",
            "Fetched 27 repositories for user rafalagoon\n",
            "Fetched 155 repositories for user iscle\n",
            "Fetched 83 repositories for user Lascorbe\n",
            "Fetched 62 repositories for user chicacode\n",
            "Fetched 39 repositories for user alastair\n",
            "Fetched 46 repositories for user zynthian\n",
            "Fetched 95 repositories for user JoanFM\n",
            "Fetched 56 repositories for user vHanda\n",
            "Fetched 214 repositories for user leplatrem\n",
            "Fetched 37 repositories for user IgnaciodeNuevo\n",
            "Fetched 49 repositories for user lluisgomez\n",
            "Fetched 30 repositories for user MP0w\n",
            "Fetched 20 repositories for user guifre\n",
            "Fetched 223 repositories for user jchavarri\n",
            "Fetched 51 repositories for user essenciary\n",
            "Fetched 32 repositories for user JuditKaramazov\n",
            "Fetched 1438 repositories for user nilportugues\n",
            "Fetched 54 repositories for user darccio\n",
            "Fetched 36 repositories for user jerosoler\n",
            "Fetched 135 repositories for user masylum\n",
            "Fetched 28 repositories for user rafaell-lycan\n",
            "Fetched 74 repositories for user weslleyaraujo\n",
            "Fetched 69 repositories for user fpj\n",
            "Fetched 50 repositories for user sneridagh\n",
            "Fetched 137 repositories for user pauek\n",
            "Fetched 113 repositories for user domini-code\n",
            "Fetched 35 repositories for user imtoori\n",
            "Fetched 29 repositories for user AlanRynne\n",
            "Fetched 79 repositories for user franiglesias\n",
            "Fetched 163 repositories for user pal-robotics\n",
            "Fetched 84 repositories for user cifkao\n",
            "Fetched 80 repositories for user crimanlor\n",
            "Fetched 70 repositories for user uokesita\n",
            "Fetched 23 repositories for user dbogdanov\n",
            "Fetched 27 repositories for user ivmartel\n",
            "Fetched 119 repositories for user petrosagg\n",
            "Fetched 26 repositories for user danielguillan\n",
            "Fetched 18 repositories for user carlosala\n",
            "Fetched 58 repositories for user guillerp8\n",
            "Fetched 116 repositories for user hacknug\n",
            "Fetched 96 repositories for user vieron\n",
            "Fetched 49 repositories for user EsteveSegura\n",
            "Fetched 17 repositories for user artHub-j\n",
            "Fetched 8 repositories for user arechsteiner\n",
            "Fetched 239 repositories for user jcchavezs\n",
            "Fetched 3 repositories for user lolarufino\n",
            "Fetched 11 repositories for user lucasmoyano\n",
            "Fetched 36 repositories for user aperezg\n",
            "Fetched 16 repositories for user marcomusy\n",
            "Fetched 57 repositories for user carlescufi\n",
            "Fetched 73 repositories for user xuv\n",
            "Fetched 68 repositories for user jalbertsr\n",
            "Fetched 43 repositories for user klaufel\n",
            "Fetched 64 repositories for user polpielladev\n",
            "Fetched 46 repositories for user rveciana\n",
            "Fetched 368 repositories for user ross-u\n",
            "Fetched 16 repositories for user peremartra\n",
            "Fetched 30 repositories for user IT-Academy-BCN\n",
            "Fetched 209 repositories for user oceansize\n",
            "Fetched 80 repositories for user boudra\n",
            "Fetched 113 repositories for user fcsonline\n",
            "Fetched 126 repositories for user alfredorueda\n",
            "Fetched 30 repositories for user lobuhi\n",
            "Fetched 40 repositories for user fabriziotappero\n",
            "Fetched 79 repositories for user enric1994\n",
            "Fetched 90 repositories for user mayhem\n",
            "Fetched 200 repositories for user uGeek\n",
            "Fetched 9 repositories for user carlesloriente\n",
            "Fetched 63 repositories for user as0ler\n",
            "Fetched 68 repositories for user hiulit\n",
            "Fetched 20 repositories for user joseadanof\n",
            "Fetched 33 repositories for user bromagosa\n",
            "Fetched 26 repositories for user waleska404\n",
            "Fetched 23 repositories for user maxprilutskiy\n",
            "Fetched 76 repositories for user AlbertSuarez\n",
            "Fetched 13 repositories for user aikoncwd\n",
            "Fetched 55 repositories for user BCN3D\n",
            "Fetched 11 repositories for user cbovis\n",
            "Fetched 47 repositories for user jesus-seijas-sp\n",
            "Fetched 119 repositories for user isglobal-brge\n",
            "Fetched 10 repositories for user polqf\n",
            "Fetched 61 repositories for user ismailakbudak\n",
            "Fetched 31 repositories for user edubxb\n",
            "Fetched 137 repositories for user worr\n",
            "Fetched 45 repositories for user eskerda\n",
            "Fetched 61 repositories for user albertvaka\n",
            "Fetched 198 repositories for user severin-lemaignan\n",
            "Fetched 17 repositories for user reneargento\n",
            "Fetched 22 repositories for user wilddeer\n",
            "Fetched 124 repositories for user skyrpex\n",
            "Fetched 26 repositories for user dehivix\n",
            "Fetched 28 repositories for user mastermindac\n",
            "Fetched 96 repositories for user nachoiacovino\n",
            "Fetched 24 repositories for user markmhendrickson\n",
            "Fetched 78 repositories for user polyrand\n",
            "Fetched 6 repositories for user mjesun\n",
            "Fetched 21 repositories for user ailopez-o\n",
            "Fetched 124 repositories for user gangsthub\n",
            "Fetched 52 repositories for user victorcuervo\n",
            "Fetched 69 repositories for user martinberlin\n",
            "Fetched 23 repositories for user d0n3val\n",
            "Fetched 23 repositories for user Murderlon\n",
            "Fetched 33 repositories for user dmarman\n",
            "Fetched 109 repositories for user edg-l\n",
            "Fetched 115 repositories for user rockneurotiko\n",
            "Fetched 75 repositories for user GenieFramework\n",
            "Fetched 38 repositories for user ffont\n",
            "Fetched 32 repositories for user NachoSEO\n",
            "Fetched 54 repositories for user josepjaume\n",
            "Fetched 63 repositories for user MargaretKrutikova\n",
            "Fetched 59 repositories for user frogg\n",
            "Fetched 14 repositories for user agustincl\n",
            "Fetched 12 repositories for user fesplugas\n",
            "Fetched 223 repositories for user oivoodoo\n",
            "Fetched 78 repositories for user manupacheco\n",
            "Fetched 65 repositories for user edshadi\n",
            "Fetched 41 repositories for user AntoBrandi\n",
            "Fetched 76 repositories for user OriolAbril\n",
            "Fetched 76 repositories for user oriolgual\n",
            "Fetched 49 repositories for user hiromipaw\n",
            "Fetched 39 repositories for user BraulioV\n",
            "Fetched 194 repositories for user bermi\n",
            "Fetched 80 repositories for user poguez\n",
            "Fetched 29 repositories for user PDillis\n",
            "Fetched 43 repositories for user xpadro\n",
            "Fetched 169 repositories for user picsoung\n",
            "Fetched 21 repositories for user Mathiew82\n",
            "Fetched 32 repositories for user JoanClaret\n",
            "Fetched 16 repositories for user Ereza\n",
            "Fetched 48 repositories for user iaguis\n",
            "Fetched 11 repositories for user xavigiro\n",
            "Fetched 9 repositories for user victorfisac\n",
            "Fetched 41 repositories for user alberto-santini\n",
            "Fetched 245 repositories for user jesussantana\n",
            "Fetched 20 repositories for user c27gc\n",
            "Fetched 14 repositories for user ndelvalle\n",
            "Fetched 8 repositories for user helleworldGIT\n",
            "Fetched 36 repositories for user twinone\n",
            "Fetched 21 repositories for user psincraian\n",
            "Fetched 10 repositories for user PascalCoinDev\n",
            "Fetched 42 repositories for user rocboronat\n",
            "Fetched 124 repositories for user raelga\n",
            "Fetched 98 repositories for user gtrias\n",
            "Fetched 14 repositories for user gurugray\n",
            "Fetched 50 repositories for user jordi-petit\n",
            "Fetched 105 repositories for user duhow\n",
            "Fetched 37 repositories for user pensierinmusica\n",
            "Fetched 34 repositories for user slluis\n",
            "Fetched 23 repositories for user mayurbhangale\n",
            "Fetched 47 repositories for user Raagh\n",
            "Fetched 54 repositories for user ismanapa\n",
            "Fetched 56 repositories for user emilioicai\n",
            "Fetched 369 repositories for user robbiekruszynski\n",
            "Fetched 44 repositories for user lucasrodes\n",
            "Fetched 85 repositories for user j0rd1s3rr4n0\n",
            "Fetched 72 repositories for user BraisGabin\n",
            "Fetched 125 repositories for user IagoLast\n",
            "Fetched 42 repositories for user eloipuertas\n",
            "Fetched 19 repositories for user guidoiaquinti\n",
            "Fetched 38 repositories for user manuelbarzi\n",
            "Fetched 39 repositories for user Elecash\n",
            "Fetched 60 repositories for user tancredi\n",
            "Fetched 82 repositories for user simon0191\n",
            "Fetched 166 repositories for user knoopx\n",
            "Fetched 10 repositories for user adolfo-rt\n",
            "Fetched 62 repositories for user velascoluis\n",
            "Fetched 119 repositories for user gnovaro\n",
            "Fetched 56 repositories for user jrom\n",
            "Fetched 70 repositories for user msanroman\n",
            "Fetched 86 repositories for user maoo\n",
            "Fetched 19 repositories for user ninodafonte\n",
            "Fetched 59 repositories for user xrigau\n",
            "Fetched 87 repositories for user iliasbartolini\n",
            "Fetched 34 repositories for user gmarull\n",
            "Fetched 63 repositories for user uesteibar\n",
            "Fetched 45 repositories for user mawrkus\n",
            "Fetched 30 repositories for user thdelmas\n",
            "Fetched 5 repositories for user crisbusquets\n",
            "Fetched 58 repositories for user jordicenzano\n",
            "Fetched 28 repositories for user MG2033\n",
            "Fetched 45 repositories for user nym3r0s\n",
            "Fetched 36 repositories for user deeleman\n",
            "Fetched 23 repositories for user zapatran\n",
            "Fetched 141 repositories for user josepot\n",
            "Fetched 76 repositories for user diegok\n",
            "Fetched 146 repositories for user ronnylt\n",
            "Fetched 87 repositories for user iamricard\n",
            "Fetched 22 repositories for user zeeshanrafique23\n",
            "Fetched 46 repositories for user qmuntal\n",
            "Fetched 14 repositories for user r3k2\n",
            "Fetched 27 repositories for user TechFems-projects-and-resources\n",
            "Fetched 87 repositories for user mrcasals\n",
            "Fetched 39 repositories for user powmedia\n",
            "Fetched 69 repositories for user brianjimenez\n",
            "Fetched 34 repositories for user arnaualbert\n",
            "Fetched 11 repositories for user JordiBForgeFlow\n",
            "Fetched 91 repositories for user e-oz\n",
            "Fetched 53 repositories for user jorgeramirez\n",
            "Fetched 69 repositories for user oscard0m\n",
            "Fetched 53 repositories for user guigrpa\n",
            "Fetched 40 repositories for user dmitry-zaets\n",
            "Fetched 38 repositories for user StratocasterO\n"
          ]
        }
      ]
    },
    {
      "cell_type": "code",
      "source": [
        "repos_df = pd.DataFrame(all_repositories)\n",
        "repos_df.to_csv('repositories.csv', index=False)"
      ],
      "metadata": {
        "id": "9emuXEncw203"
      },
      "execution_count": null,
      "outputs": []
    },
    {
      "cell_type": "markdown",
      "source": [
        "1. Who are the top 5 users in Barcelona with the highest number of followers? List their login in order, comma-separated."
      ],
      "metadata": {
        "id": "R0UMQqCx8SXZ"
      }
    },
    {
      "cell_type": "code",
      "source": [
        "import pandas as pd\n",
        "\n",
        "# Load the users dataset\n",
        "users_df = pd.read_csv('users.csv')\n",
        "\n",
        "# Sort by 'followers' in descending order and select the top 5\n",
        "top_5_users = users_df.sort_values(by='followers', ascending=False).head(5)\n",
        "\n",
        "# Get the 'login' values of the top 5 users and join them in a comma-separated format\n",
        "top_5_logins = ','.join(top_5_users['login'])\n",
        "\n",
        "top_5_logins\n"
      ],
      "metadata": {
        "colab": {
          "base_uri": "https://localhost:8080/",
          "height": 35
        },
        "id": "0Wn2MGf61e_l",
        "outputId": "59f490dc-db47-4de7-d85f-1c35d2bb838e"
      },
      "execution_count": null,
      "outputs": [
        {
          "output_type": "execute_result",
          "data": {
            "text/plain": [
              "'midudev,ai,raysan5,vfarcic,spite'"
            ],
            "application/vnd.google.colaboratory.intrinsic+json": {
              "type": "string"
            }
          },
          "metadata": {},
          "execution_count": 74
        }
      ]
    },
    {
      "cell_type": "markdown",
      "source": [
        "2. Who are the 5 earliest registered GitHub users in Barcelona? List their login in ascending order of created_at, comma-separated."
      ],
      "metadata": {
        "id": "z89ZBrpD8T5p"
      }
    },
    {
      "cell_type": "code",
      "source": [
        "users_df['created_at'] = pd.to_datetime(users_df['created_at'])\n",
        "\n",
        "# Sort by 'created_at' in ascending order and select the top 5\n",
        "earliest_users = users_df.sort_values(by='created_at', ascending=True).head(5)\n",
        "\n",
        "# Get the 'login' values of the 5 earliest users and join them in a comma-separated format\n",
        "earliest_logins = ','.join(earliest_users['login'])\n",
        "\n",
        "earliest_logins"
      ],
      "metadata": {
        "colab": {
          "base_uri": "https://localhost:8080/",
          "height": 35
        },
        "id": "owxYKtx11qrN",
        "outputId": "b33ae5c3-0e62-47b6-83b3-db86e84fcfb7"
      },
      "execution_count": null,
      "outputs": [
        {
          "output_type": "execute_result",
          "data": {
            "text/plain": [
              "'oleganza,gravityblast,fesplugas,fxn,pauek'"
            ],
            "application/vnd.google.colaboratory.intrinsic+json": {
              "type": "string"
            }
          },
          "metadata": {},
          "execution_count": 75
        }
      ]
    },
    {
      "cell_type": "markdown",
      "source": [
        "3. What are the 3 most popular license among these users? Ignore missing licenses. List the license_name in order, comma-separated."
      ],
      "metadata": {
        "id": "SAArgD3c8XjU"
      }
    },
    {
      "cell_type": "code",
      "source": [
        "import pandas as pd\n",
        "\n",
        "# Load the repositories dataset\n",
        "repos_df = pd.read_csv('repositories.csv')\n",
        "\n",
        "repos_df.head()"
      ],
      "metadata": {
        "colab": {
          "base_uri": "https://localhost:8080/",
          "height": 206
        },
        "id": "7_hP7BzM2HKq",
        "outputId": "9dc93b62-6080-43f1-a8a2-dc080a97814f"
      },
      "execution_count": null,
      "outputs": [
        {
          "output_type": "execute_result",
          "data": {
            "text/plain": [
              "     login                      full_name            created_at  \\\n",
              "0  midudev         midudev/accordion-menu  2018-10-08T13:41:57Z   \n",
              "1  midudev             midudev/actas-2024  2024-08-01T15:04:40Z   \n",
              "2  midudev        midudev/adventjs-issues  2021-12-01T15:27:21Z   \n",
              "3  midudev  midudev/algolia-pwa-ecommerce  2022-01-03T20:17:22Z   \n",
              "4  midudev             midudev/ant-design  2018-09-13T15:08:22Z   \n",
              "\n",
              "   stargazers_count  watchers_count    language  has_projects  has_wiki  \\\n",
              "0                 2               2  JavaScript          True      True   \n",
              "1                42              42         NaN          True      True   \n",
              "2                33              33         NaN          True      True   \n",
              "3                24              24  TypeScript          True      True   \n",
              "4                 2               2  TypeScript          True      True   \n",
              "\n",
              "  license_name  \n",
              "0          NaN  \n",
              "1          NaN  \n",
              "2          NaN  \n",
              "3          mit  \n",
              "4          mit  "
            ],
            "text/html": [
              "\n",
              "  <div id=\"df-2451dc70-1455-49df-9b5d-c18ec3b19466\" class=\"colab-df-container\">\n",
              "    <div>\n",
              "<style scoped>\n",
              "    .dataframe tbody tr th:only-of-type {\n",
              "        vertical-align: middle;\n",
              "    }\n",
              "\n",
              "    .dataframe tbody tr th {\n",
              "        vertical-align: top;\n",
              "    }\n",
              "\n",
              "    .dataframe thead th {\n",
              "        text-align: right;\n",
              "    }\n",
              "</style>\n",
              "<table border=\"1\" class=\"dataframe\">\n",
              "  <thead>\n",
              "    <tr style=\"text-align: right;\">\n",
              "      <th></th>\n",
              "      <th>login</th>\n",
              "      <th>full_name</th>\n",
              "      <th>created_at</th>\n",
              "      <th>stargazers_count</th>\n",
              "      <th>watchers_count</th>\n",
              "      <th>language</th>\n",
              "      <th>has_projects</th>\n",
              "      <th>has_wiki</th>\n",
              "      <th>license_name</th>\n",
              "    </tr>\n",
              "  </thead>\n",
              "  <tbody>\n",
              "    <tr>\n",
              "      <th>0</th>\n",
              "      <td>midudev</td>\n",
              "      <td>midudev/accordion-menu</td>\n",
              "      <td>2018-10-08T13:41:57Z</td>\n",
              "      <td>2</td>\n",
              "      <td>2</td>\n",
              "      <td>JavaScript</td>\n",
              "      <td>True</td>\n",
              "      <td>True</td>\n",
              "      <td>NaN</td>\n",
              "    </tr>\n",
              "    <tr>\n",
              "      <th>1</th>\n",
              "      <td>midudev</td>\n",
              "      <td>midudev/actas-2024</td>\n",
              "      <td>2024-08-01T15:04:40Z</td>\n",
              "      <td>42</td>\n",
              "      <td>42</td>\n",
              "      <td>NaN</td>\n",
              "      <td>True</td>\n",
              "      <td>True</td>\n",
              "      <td>NaN</td>\n",
              "    </tr>\n",
              "    <tr>\n",
              "      <th>2</th>\n",
              "      <td>midudev</td>\n",
              "      <td>midudev/adventjs-issues</td>\n",
              "      <td>2021-12-01T15:27:21Z</td>\n",
              "      <td>33</td>\n",
              "      <td>33</td>\n",
              "      <td>NaN</td>\n",
              "      <td>True</td>\n",
              "      <td>True</td>\n",
              "      <td>NaN</td>\n",
              "    </tr>\n",
              "    <tr>\n",
              "      <th>3</th>\n",
              "      <td>midudev</td>\n",
              "      <td>midudev/algolia-pwa-ecommerce</td>\n",
              "      <td>2022-01-03T20:17:22Z</td>\n",
              "      <td>24</td>\n",
              "      <td>24</td>\n",
              "      <td>TypeScript</td>\n",
              "      <td>True</td>\n",
              "      <td>True</td>\n",
              "      <td>mit</td>\n",
              "    </tr>\n",
              "    <tr>\n",
              "      <th>4</th>\n",
              "      <td>midudev</td>\n",
              "      <td>midudev/ant-design</td>\n",
              "      <td>2018-09-13T15:08:22Z</td>\n",
              "      <td>2</td>\n",
              "      <td>2</td>\n",
              "      <td>TypeScript</td>\n",
              "      <td>True</td>\n",
              "      <td>True</td>\n",
              "      <td>mit</td>\n",
              "    </tr>\n",
              "  </tbody>\n",
              "</table>\n",
              "</div>\n",
              "    <div class=\"colab-df-buttons\">\n",
              "\n",
              "  <div class=\"colab-df-container\">\n",
              "    <button class=\"colab-df-convert\" onclick=\"convertToInteractive('df-2451dc70-1455-49df-9b5d-c18ec3b19466')\"\n",
              "            title=\"Convert this dataframe to an interactive table.\"\n",
              "            style=\"display:none;\">\n",
              "\n",
              "  <svg xmlns=\"http://www.w3.org/2000/svg\" height=\"24px\" viewBox=\"0 -960 960 960\">\n",
              "    <path d=\"M120-120v-720h720v720H120Zm60-500h600v-160H180v160Zm220 220h160v-160H400v160Zm0 220h160v-160H400v160ZM180-400h160v-160H180v160Zm440 0h160v-160H620v160ZM180-180h160v-160H180v160Zm440 0h160v-160H620v160Z\"/>\n",
              "  </svg>\n",
              "    </button>\n",
              "\n",
              "  <style>\n",
              "    .colab-df-container {\n",
              "      display:flex;\n",
              "      gap: 12px;\n",
              "    }\n",
              "\n",
              "    .colab-df-convert {\n",
              "      background-color: #E8F0FE;\n",
              "      border: none;\n",
              "      border-radius: 50%;\n",
              "      cursor: pointer;\n",
              "      display: none;\n",
              "      fill: #1967D2;\n",
              "      height: 32px;\n",
              "      padding: 0 0 0 0;\n",
              "      width: 32px;\n",
              "    }\n",
              "\n",
              "    .colab-df-convert:hover {\n",
              "      background-color: #E2EBFA;\n",
              "      box-shadow: 0px 1px 2px rgba(60, 64, 67, 0.3), 0px 1px 3px 1px rgba(60, 64, 67, 0.15);\n",
              "      fill: #174EA6;\n",
              "    }\n",
              "\n",
              "    .colab-df-buttons div {\n",
              "      margin-bottom: 4px;\n",
              "    }\n",
              "\n",
              "    [theme=dark] .colab-df-convert {\n",
              "      background-color: #3B4455;\n",
              "      fill: #D2E3FC;\n",
              "    }\n",
              "\n",
              "    [theme=dark] .colab-df-convert:hover {\n",
              "      background-color: #434B5C;\n",
              "      box-shadow: 0px 1px 3px 1px rgba(0, 0, 0, 0.15);\n",
              "      filter: drop-shadow(0px 1px 2px rgba(0, 0, 0, 0.3));\n",
              "      fill: #FFFFFF;\n",
              "    }\n",
              "  </style>\n",
              "\n",
              "    <script>\n",
              "      const buttonEl =\n",
              "        document.querySelector('#df-2451dc70-1455-49df-9b5d-c18ec3b19466 button.colab-df-convert');\n",
              "      buttonEl.style.display =\n",
              "        google.colab.kernel.accessAllowed ? 'block' : 'none';\n",
              "\n",
              "      async function convertToInteractive(key) {\n",
              "        const element = document.querySelector('#df-2451dc70-1455-49df-9b5d-c18ec3b19466');\n",
              "        const dataTable =\n",
              "          await google.colab.kernel.invokeFunction('convertToInteractive',\n",
              "                                                    [key], {});\n",
              "        if (!dataTable) return;\n",
              "\n",
              "        const docLinkHtml = 'Like what you see? Visit the ' +\n",
              "          '<a target=\"_blank\" href=https://colab.research.google.com/notebooks/data_table.ipynb>data table notebook</a>'\n",
              "          + ' to learn more about interactive tables.';\n",
              "        element.innerHTML = '';\n",
              "        dataTable['output_type'] = 'display_data';\n",
              "        await google.colab.output.renderOutput(dataTable, element);\n",
              "        const docLink = document.createElement('div');\n",
              "        docLink.innerHTML = docLinkHtml;\n",
              "        element.appendChild(docLink);\n",
              "      }\n",
              "    </script>\n",
              "  </div>\n",
              "\n",
              "\n",
              "<div id=\"df-f3a6c9fd-649f-4069-8551-407fd2312347\">\n",
              "  <button class=\"colab-df-quickchart\" onclick=\"quickchart('df-f3a6c9fd-649f-4069-8551-407fd2312347')\"\n",
              "            title=\"Suggest charts\"\n",
              "            style=\"display:none;\">\n",
              "\n",
              "<svg xmlns=\"http://www.w3.org/2000/svg\" height=\"24px\"viewBox=\"0 0 24 24\"\n",
              "     width=\"24px\">\n",
              "    <g>\n",
              "        <path d=\"M19 3H5c-1.1 0-2 .9-2 2v14c0 1.1.9 2 2 2h14c1.1 0 2-.9 2-2V5c0-1.1-.9-2-2-2zM9 17H7v-7h2v7zm4 0h-2V7h2v10zm4 0h-2v-4h2v4z\"/>\n",
              "    </g>\n",
              "</svg>\n",
              "  </button>\n",
              "\n",
              "<style>\n",
              "  .colab-df-quickchart {\n",
              "      --bg-color: #E8F0FE;\n",
              "      --fill-color: #1967D2;\n",
              "      --hover-bg-color: #E2EBFA;\n",
              "      --hover-fill-color: #174EA6;\n",
              "      --disabled-fill-color: #AAA;\n",
              "      --disabled-bg-color: #DDD;\n",
              "  }\n",
              "\n",
              "  [theme=dark] .colab-df-quickchart {\n",
              "      --bg-color: #3B4455;\n",
              "      --fill-color: #D2E3FC;\n",
              "      --hover-bg-color: #434B5C;\n",
              "      --hover-fill-color: #FFFFFF;\n",
              "      --disabled-bg-color: #3B4455;\n",
              "      --disabled-fill-color: #666;\n",
              "  }\n",
              "\n",
              "  .colab-df-quickchart {\n",
              "    background-color: var(--bg-color);\n",
              "    border: none;\n",
              "    border-radius: 50%;\n",
              "    cursor: pointer;\n",
              "    display: none;\n",
              "    fill: var(--fill-color);\n",
              "    height: 32px;\n",
              "    padding: 0;\n",
              "    width: 32px;\n",
              "  }\n",
              "\n",
              "  .colab-df-quickchart:hover {\n",
              "    background-color: var(--hover-bg-color);\n",
              "    box-shadow: 0 1px 2px rgba(60, 64, 67, 0.3), 0 1px 3px 1px rgba(60, 64, 67, 0.15);\n",
              "    fill: var(--button-hover-fill-color);\n",
              "  }\n",
              "\n",
              "  .colab-df-quickchart-complete:disabled,\n",
              "  .colab-df-quickchart-complete:disabled:hover {\n",
              "    background-color: var(--disabled-bg-color);\n",
              "    fill: var(--disabled-fill-color);\n",
              "    box-shadow: none;\n",
              "  }\n",
              "\n",
              "  .colab-df-spinner {\n",
              "    border: 2px solid var(--fill-color);\n",
              "    border-color: transparent;\n",
              "    border-bottom-color: var(--fill-color);\n",
              "    animation:\n",
              "      spin 1s steps(1) infinite;\n",
              "  }\n",
              "\n",
              "  @keyframes spin {\n",
              "    0% {\n",
              "      border-color: transparent;\n",
              "      border-bottom-color: var(--fill-color);\n",
              "      border-left-color: var(--fill-color);\n",
              "    }\n",
              "    20% {\n",
              "      border-color: transparent;\n",
              "      border-left-color: var(--fill-color);\n",
              "      border-top-color: var(--fill-color);\n",
              "    }\n",
              "    30% {\n",
              "      border-color: transparent;\n",
              "      border-left-color: var(--fill-color);\n",
              "      border-top-color: var(--fill-color);\n",
              "      border-right-color: var(--fill-color);\n",
              "    }\n",
              "    40% {\n",
              "      border-color: transparent;\n",
              "      border-right-color: var(--fill-color);\n",
              "      border-top-color: var(--fill-color);\n",
              "    }\n",
              "    60% {\n",
              "      border-color: transparent;\n",
              "      border-right-color: var(--fill-color);\n",
              "    }\n",
              "    80% {\n",
              "      border-color: transparent;\n",
              "      border-right-color: var(--fill-color);\n",
              "      border-bottom-color: var(--fill-color);\n",
              "    }\n",
              "    90% {\n",
              "      border-color: transparent;\n",
              "      border-bottom-color: var(--fill-color);\n",
              "    }\n",
              "  }\n",
              "</style>\n",
              "\n",
              "  <script>\n",
              "    async function quickchart(key) {\n",
              "      const quickchartButtonEl =\n",
              "        document.querySelector('#' + key + ' button');\n",
              "      quickchartButtonEl.disabled = true;  // To prevent multiple clicks.\n",
              "      quickchartButtonEl.classList.add('colab-df-spinner');\n",
              "      try {\n",
              "        const charts = await google.colab.kernel.invokeFunction(\n",
              "            'suggestCharts', [key], {});\n",
              "      } catch (error) {\n",
              "        console.error('Error during call to suggestCharts:', error);\n",
              "      }\n",
              "      quickchartButtonEl.classList.remove('colab-df-spinner');\n",
              "      quickchartButtonEl.classList.add('colab-df-quickchart-complete');\n",
              "    }\n",
              "    (() => {\n",
              "      let quickchartButtonEl =\n",
              "        document.querySelector('#df-f3a6c9fd-649f-4069-8551-407fd2312347 button');\n",
              "      quickchartButtonEl.style.display =\n",
              "        google.colab.kernel.accessAllowed ? 'block' : 'none';\n",
              "    })();\n",
              "  </script>\n",
              "</div>\n",
              "\n",
              "    </div>\n",
              "  </div>\n"
            ],
            "application/vnd.google.colaboratory.intrinsic+json": {
              "type": "dataframe",
              "variable_name": "repos_df",
              "summary": "{\n  \"name\": \"repos_df\",\n  \"rows\": 28394,\n  \"fields\": [\n    {\n      \"column\": \"login\",\n      \"properties\": {\n        \"dtype\": \"category\",\n        \"num_unique_values\": 337,\n        \"samples\": [\n          \"robertohuertasm\",\n          \"franiglesias\",\n          \"jorditorresBCN\"\n        ],\n        \"semantic_type\": \"\",\n        \"description\": \"\"\n      }\n    },\n    {\n      \"column\": \"full_name\",\n      \"properties\": {\n        \"dtype\": \"string\",\n        \"num_unique_values\": 28394,\n        \"samples\": [\n          \"dianavile/CSS-Grid-mockup\",\n          \"alfredorueda/java-rest-api-examples\",\n          \"darccio/sidekiq-cron\"\n        ],\n        \"semantic_type\": \"\",\n        \"description\": \"\"\n      }\n    },\n    {\n      \"column\": \"created_at\",\n      \"properties\": {\n        \"dtype\": \"object\",\n        \"num_unique_values\": 28390,\n        \"samples\": [\n          \"2016-10-01T09:55:23Z\",\n          \"2018-02-21T16:00:04Z\",\n          \"2024-03-10T09:54:21Z\"\n        ],\n        \"semantic_type\": \"\",\n        \"description\": \"\"\n      }\n    },\n    {\n      \"column\": \"stargazers_count\",\n      \"properties\": {\n        \"dtype\": \"number\",\n        \"std\": 454,\n        \"min\": 0,\n        \"max\": 40148,\n        \"num_unique_values\": 475,\n        \"samples\": [\n          439,\n          714,\n          53\n        ],\n        \"semantic_type\": \"\",\n        \"description\": \"\"\n      }\n    },\n    {\n      \"column\": \"watchers_count\",\n      \"properties\": {\n        \"dtype\": \"number\",\n        \"std\": 454,\n        \"min\": 0,\n        \"max\": 40148,\n        \"num_unique_values\": 475,\n        \"samples\": [\n          439,\n          714,\n          53\n        ],\n        \"semantic_type\": \"\",\n        \"description\": \"\"\n      }\n    },\n    {\n      \"column\": \"language\",\n      \"properties\": {\n        \"dtype\": \"category\",\n        \"num_unique_values\": 170,\n        \"samples\": [\n          \"Common Lisp\",\n          \"Scala\",\n          \"XML\"\n        ],\n        \"semantic_type\": \"\",\n        \"description\": \"\"\n      }\n    },\n    {\n      \"column\": \"has_projects\",\n      \"properties\": {\n        \"dtype\": \"boolean\",\n        \"num_unique_values\": 2,\n        \"samples\": [\n          false,\n          true\n        ],\n        \"semantic_type\": \"\",\n        \"description\": \"\"\n      }\n    },\n    {\n      \"column\": \"has_wiki\",\n      \"properties\": {\n        \"dtype\": \"boolean\",\n        \"num_unique_values\": 2,\n        \"samples\": [\n          false,\n          true\n        ],\n        \"semantic_type\": \"\",\n        \"description\": \"\"\n      }\n    },\n    {\n      \"column\": \"license_name\",\n      \"properties\": {\n        \"dtype\": \"category\",\n        \"num_unique_values\": 29,\n        \"samples\": [\n          \"osl-3.0\",\n          \"lgpl-2.1\"\n        ],\n        \"semantic_type\": \"\",\n        \"description\": \"\"\n      }\n    }\n  ]\n}"
            }
          },
          "metadata": {},
          "execution_count": 77
        }
      ]
    },
    {
      "cell_type": "code",
      "source": [
        "# Filter out rows with missing licenses\n",
        "repos_df = repos_df[repos_df['license_name'].notna()]\n",
        "\n",
        "# Count the occurrences of each license and get the top 3\n",
        "top_licenses = repos_df['license_name'].value_counts().head(3)\n",
        "\n",
        "# Get the names of the top 3 licenses and join them in a comma-separated format\n",
        "top_licenses_list = ','.join(top_licenses.index)\n",
        "\n",
        "top_licenses_list\n"
      ],
      "metadata": {
        "colab": {
          "base_uri": "https://localhost:8080/",
          "height": 35
        },
        "id": "cObYHivM15vA",
        "outputId": "e706d826-471f-4168-f113-5c421ce9b7d1"
      },
      "execution_count": null,
      "outputs": [
        {
          "output_type": "execute_result",
          "data": {
            "text/plain": [
              "'mit,apache-2.0,other'"
            ],
            "application/vnd.google.colaboratory.intrinsic+json": {
              "type": "string"
            }
          },
          "metadata": {},
          "execution_count": 76
        }
      ]
    },
    {
      "cell_type": "markdown",
      "source": [
        "4. Which company do the majority of these developers work at?"
      ],
      "metadata": {
        "id": "og22UvS68kR0"
      }
    },
    {
      "cell_type": "code",
      "source": [
        "non_empty_companies = users_df[users_df['company'].notna() & (users_df['company'] != '')]\n",
        "\n",
        "# Find the most frequently occurring company\n",
        "top_company = non_empty_companies['company'].value_counts().idxmax()\n",
        "\n",
        "top_company"
      ],
      "metadata": {
        "colab": {
          "base_uri": "https://localhost:8080/",
          "height": 35
        },
        "id": "k_Ang0Jb2ibU",
        "outputId": "4c8dce50-4bbd-4184-db8e-65764ddcd6d4"
      },
      "execution_count": null,
      "outputs": [
        {
          "output_type": "execute_result",
          "data": {
            "text/plain": [
              "'FREELANCE'"
            ],
            "application/vnd.google.colaboratory.intrinsic+json": {
              "type": "string"
            }
          },
          "metadata": {},
          "execution_count": 78
        }
      ]
    },
    {
      "cell_type": "markdown",
      "source": [
        "5. Which programming language is most popular among these users?"
      ],
      "metadata": {
        "id": "lEPibycY8nQf"
      }
    },
    {
      "cell_type": "code",
      "source": [
        "non_empty_languages = repos_df[repos_df['language'].notna()]\n",
        "\n",
        "# Find the most frequently occurring language\n",
        "top_language = non_empty_languages['language'].value_counts().idxmax()\n",
        "\n",
        "top_language"
      ],
      "metadata": {
        "colab": {
          "base_uri": "https://localhost:8080/",
          "height": 35
        },
        "id": "KoLx6ajw2v5j",
        "outputId": "b4b987c3-9a00-4d66-e934-67b0c919190f"
      },
      "execution_count": null,
      "outputs": [
        {
          "output_type": "execute_result",
          "data": {
            "text/plain": [
              "'JavaScript'"
            ],
            "application/vnd.google.colaboratory.intrinsic+json": {
              "type": "string"
            }
          },
          "metadata": {},
          "execution_count": 79
        }
      ]
    },
    {
      "cell_type": "markdown",
      "source": [
        "6. Which programming language is the most popular among users who joined after 2020?"
      ],
      "metadata": {
        "id": "bbA-4eS58qQc"
      }
    },
    {
      "cell_type": "code",
      "source": [
        "import pandas as pd\n",
        "\n",
        "# Load the users and repositories datasets\n",
        "users_df = pd.read_csv('users.csv')\n",
        "repos_df = pd.read_csv('repositories.csv')\n",
        "\n",
        "# Convert 'created_at' in users_df to datetime format\n",
        "users_df['created_at'] = pd.to_datetime(users_df['created_at'])\n",
        "\n",
        "# Filter users who joined after 2020\n",
        "recent_users = users_df[users_df['created_at'] > '2020-12-31']\n",
        "\n",
        "# Get the logins of these recent users\n",
        "recent_user_logins = recent_users['login'].tolist()\n",
        "\n",
        "# Filter repositories belonging to these recent users\n",
        "recent_user_repos = repos_df[repos_df['login'].isin(recent_user_logins)]\n",
        "\n",
        "# Filter out rows with missing language information\n",
        "non_empty_languages = recent_user_repos[recent_user_repos['language'].notna()]\n",
        "\n",
        "# Find the most popular language after 2020\n",
        "top_languages = non_empty_languages['language'].value_counts().idxmax()\n",
        "\n",
        "top_languages"
      ],
      "metadata": {
        "id": "-PL93elq3Dr7",
        "outputId": "456cf622-8078-4e7a-c0b1-f72805d2dfff",
        "colab": {
          "base_uri": "https://localhost:8080/",
          "height": 35
        }
      },
      "execution_count": 7,
      "outputs": [
        {
          "output_type": "execute_result",
          "data": {
            "text/plain": [
              "'Python'"
            ],
            "application/vnd.google.colaboratory.intrinsic+json": {
              "type": "string"
            }
          },
          "metadata": {},
          "execution_count": 7
        }
      ]
    },
    {
      "cell_type": "markdown",
      "source": [
        "7. Which language has the highest average number of stars per repository?\n"
      ],
      "metadata": {
        "id": "sClXNQCT8wyj"
      }
    },
    {
      "cell_type": "code",
      "source": [
        "import pandas as pd\n",
        "\n",
        "# Load the repositories dataset\n",
        "repos_df = pd.read_csv('repositories.csv')\n",
        "\n",
        "# Filter out rows with missing language information\n",
        "non_empty_languages = repos_df[repos_df['language'].notna()]\n",
        "\n",
        "# Group by language and calculate the average stars per repository\n",
        "avg_stars_per_language = non_empty_languages.groupby('language')['stargazers_count'].mean()\n",
        "\n",
        "# Find the language with the highest average stars\n",
        "top_language_by_stars = avg_stars_per_language.idxmax()\n",
        "highest_avg_stars = avg_stars_per_language.max()\n",
        "\n",
        "top_language_by_stars, highest_avg_stars\n"
      ],
      "metadata": {
        "colab": {
          "base_uri": "https://localhost:8080/"
        },
        "id": "EN0NEDO-QfF9",
        "outputId": "26889cf7-80ce-4261-daca-5436dc20532f"
      },
      "execution_count": 9,
      "outputs": [
        {
          "output_type": "execute_result",
          "data": {
            "text/plain": [
              "('Vim Script', 3839.0)"
            ]
          },
          "metadata": {},
          "execution_count": 9
        }
      ]
    },
    {
      "cell_type": "markdown",
      "source": [
        "8. Let's define leader_strength as followers / (1 + following). Who are the top 5 in terms of leader_strength? List their login in order, comma-separated."
      ],
      "metadata": {
        "id": "mdni-xmU80Mw"
      }
    },
    {
      "cell_type": "code",
      "source": [
        "import pandas as pd\n",
        "\n",
        "# Load the users dataset\n",
        "users_df = pd.read_csv('users.csv')\n",
        "\n",
        "# Calculate leader_strength for each user\n",
        "users_df['leader_strength'] = users_df['followers'] / (1 + users_df['following'])\n",
        "\n",
        "# Sort by leader_strength in descending order and select the top 5 users\n",
        "top_5_leaders = users_df.sort_values(by='leader_strength', ascending=False).head(5)\n",
        "\n",
        "# Get the 'login' values of the top 5 users and join them in a comma-separated format\n",
        "top_5_logins = ','.join(top_5_leaders['login'])\n",
        "\n",
        "top_5_logins\n"
      ],
      "metadata": {
        "colab": {
          "base_uri": "https://localhost:8080/",
          "height": 35
        },
        "id": "CamDGufYRn0Y",
        "outputId": "a188897e-a1ce-456c-fc3c-180896878ee4"
      },
      "execution_count": 11,
      "outputs": [
        {
          "output_type": "execute_result",
          "data": {
            "text/plain": [
              "'midudev,vfarcic,spite,amix,cfenollosa'"
            ],
            "application/vnd.google.colaboratory.intrinsic+json": {
              "type": "string"
            }
          },
          "metadata": {},
          "execution_count": 11
        }
      ]
    },
    {
      "cell_type": "markdown",
      "source": [
        "9. What is the correlation between the number of followers and the number of public repositories among users in Barcelona?"
      ],
      "metadata": {
        "id": "GmeyGym083D3"
      }
    },
    {
      "cell_type": "code",
      "source": [
        "import pandas as pd\n",
        "\n",
        "# Load the users dataset\n",
        "users_df = pd.read_csv('users.csv')\n",
        "\n",
        "# Calculate the correlation between 'followers' and 'public_repos'\n",
        "correlation = users_df['followers'].corr(users_df['public_repos'])\n",
        "\n",
        "correlation\n"
      ],
      "metadata": {
        "colab": {
          "base_uri": "https://localhost:8080/"
        },
        "id": "QpXgOkIVTano",
        "outputId": "37c9d36f-f2a1-4273-f378-429faba87a69"
      },
      "execution_count": 12,
      "outputs": [
        {
          "output_type": "execute_result",
          "data": {
            "text/plain": [
              "0.07123268320455914"
            ]
          },
          "metadata": {},
          "execution_count": 12
        }
      ]
    },
    {
      "cell_type": "markdown",
      "source": [
        "10. Does creating more repos help users get more followers? Using regression, estimate how many additional followers a user gets per additional public repository."
      ],
      "metadata": {
        "id": "hDZViDY885l3"
      }
    },
    {
      "cell_type": "code",
      "source": [
        "import pandas as pd\n",
        "from sklearn.linear_model import LinearRegression\n",
        "\n",
        "# Load the users dataset\n",
        "users_df = pd.read_csv('users.csv')\n",
        "\n",
        "# Reshape the data for sklearn\n",
        "X = users_df[['public_repos']]\n",
        "y = users_df['followers']\n",
        "\n",
        "# Perform linear regression\n",
        "model = LinearRegression()\n",
        "model.fit(X, y)\n",
        "\n",
        "# The coefficient (slope) of the regression line gives the estimated followers gained per additional repository\n",
        "followers_per_repo = model.coef_[0]\n",
        "\n",
        "followers_per_repo\n"
      ],
      "metadata": {
        "colab": {
          "base_uri": "https://localhost:8080/"
        },
        "id": "_z5PxvtpVUVV",
        "outputId": "b612d218-b392-470b-a7fa-c66b61c11136"
      },
      "execution_count": 15,
      "outputs": [
        {
          "output_type": "execute_result",
          "data": {
            "text/plain": [
              "1.0308623319576913"
            ]
          },
          "metadata": {},
          "execution_count": 15
        }
      ]
    },
    {
      "cell_type": "markdown",
      "source": [
        "11. Do people typically enable projects and wikis together? What is the correlation between a repo having projects enabled and having wiki enabled?"
      ],
      "metadata": {
        "id": "dtnnv3Qi87uM"
      }
    },
    {
      "cell_type": "code",
      "source": [
        "import pandas as pd\n",
        "\n",
        "# Load the repositories dataset\n",
        "repos_df = pd.read_csv('repositories.csv')\n",
        "\n",
        "\n",
        "# Calculate the correlation to 3 decimal places\n",
        "correlation = repos_df['has_projects'].corr(repos_df['has_wiki']).round(3)\n",
        "\n",
        "correlation\n"
      ],
      "metadata": {
        "colab": {
          "base_uri": "https://localhost:8080/"
        },
        "id": "JjbbT_9zW0LM",
        "outputId": "040a37ee-638a-4939-df21-e40adda7d93d"
      },
      "execution_count": 78,
      "outputs": [
        {
          "output_type": "execute_result",
          "data": {
            "text/plain": [
              "0.317"
            ]
          },
          "metadata": {},
          "execution_count": 78
        }
      ]
    },
    {
      "cell_type": "markdown",
      "source": [
        "12. Do hireable users follow more people than those who are not hireable?"
      ],
      "metadata": {
        "id": "aBTcp8Ut9EyA"
      }
    },
    {
      "cell_type": "code",
      "source": [
        "# Load the users dataset\n",
        "users_df = pd.read_csv('users.csv')\n",
        "\n",
        "# Drop rows with NaN values in 'hireable' or 'following'\n",
        "users_df = users_df.dropna(subset=['hireable', 'following'])\n",
        "\n",
        "# Convert 'hireable' to boolean values\n",
        "users_df['hireable'] = users_df['hireable'].astype(bool)\n",
        "\n",
        "# Calculate the average 'following' for hireable and non-hireable users\n",
        "avg_following_hireable = users_df[users_df['hireable']]['following'].mean()\n",
        "avg_following_non_hireable = users_df[~users_df['hireable']]['following'].mean()\n",
        "\n",
        "# Calculate the difference and round to 3 decimal places\n",
        "following_difference = round(avg_following_hireable - avg_following_non_hireable, 3)\n",
        "\n",
        "following_difference\n",
        "\n"
      ],
      "metadata": {
        "colab": {
          "base_uri": "https://localhost:8080/"
        },
        "id": "MUlKABg3Xf9p",
        "outputId": "cf9c2f53-ccb5-4460-ec51-f879849e58b0"
      },
      "execution_count": 76,
      "outputs": [
        {
          "output_type": "execute_result",
          "data": {
            "text/plain": [
              "nan"
            ]
          },
          "metadata": {},
          "execution_count": 76
        }
      ]
    },
    {
      "cell_type": "markdown",
      "source": [
        "13. Some developers write long bios. Does that help them get more followers? What's the impact of the length of their bio (in Unicode words, split by whitespace) with followers?"
      ],
      "metadata": {
        "id": "Nnf6F0Ht9Jlx"
      }
    },
    {
      "cell_type": "code",
      "source": [
        "import pandas as pd\n",
        "from sklearn.linear_model import LinearRegression\n",
        "\n",
        "# Load the users dataset\n",
        "users_df = pd.read_csv('users.csv')\n",
        "\n",
        "# Filter out rows where 'bio' is missing\n",
        "users_with_bio = users_df.dropna(subset=['bio'])\n",
        "\n",
        "# Calculate bio word count by splitting on whitespace and counting words\n",
        "users_with_bio['bio_word_count'] = users_with_bio['bio'].apply(lambda x: len(x.split()))\n",
        "\n",
        "# Define independent (X) and dependent (y) variables\n",
        "X = users_with_bio[['bio_word_count']]  # Bio word count\n",
        "y = users_with_bio['followers']         # Number of followers\n",
        "\n",
        "# Perform linear regression\n",
        "model = LinearRegression()\n",
        "model.fit(X, y)\n",
        "\n",
        "# Get the regression slope (coefficient for bio word count)\n",
        "slope = model.coef_[0]\n",
        "\n",
        "slope\n"
      ],
      "metadata": {
        "colab": {
          "base_uri": "https://localhost:8080/"
        },
        "id": "ulgisk4DY6gH",
        "outputId": "993da149-26c7-45b7-e170-152079cc25bf"
      },
      "execution_count": 30,
      "outputs": [
        {
          "output_type": "stream",
          "name": "stderr",
          "text": [
            "<ipython-input-30-803fb95b1df2>:11: SettingWithCopyWarning: \n",
            "A value is trying to be set on a copy of a slice from a DataFrame.\n",
            "Try using .loc[row_indexer,col_indexer] = value instead\n",
            "\n",
            "See the caveats in the documentation: https://pandas.pydata.org/pandas-docs/stable/user_guide/indexing.html#returning-a-view-versus-a-copy\n",
            "  users_with_bio['bio_word_count'] = users_with_bio['bio'].apply(lambda x: len(x.split()))\n"
          ]
        },
        {
          "output_type": "execute_result",
          "data": {
            "text/plain": [
              "13.72050854380058"
            ]
          },
          "metadata": {},
          "execution_count": 30
        }
      ]
    },
    {
      "cell_type": "markdown",
      "source": [
        "14. Who created the most repositories on weekends (UTC)? List the top 5 users' login in order, comma-separated"
      ],
      "metadata": {
        "id": "SDGuVVdB9Pcm"
      }
    },
    {
      "cell_type": "code",
      "source": [
        "import pandas as pd\n",
        "\n",
        "# Load the repositories dataset\n",
        "repos_df = pd.read_csv('repositories.csv')\n",
        "\n",
        "# Convert 'created_at' to datetime format\n",
        "repos_df['created_at'] = pd.to_datetime(repos_df['created_at'], utc=True)\n",
        "\n",
        "# Filter for repositories created on weekends (Saturday and Sunday)\n",
        "repos_df['day_of_week'] = repos_df['created_at'].dt.dayofweek\n",
        "weekend_repos = repos_df[repos_df['day_of_week'] >= 5]  # 5 = Saturday, 6 = Sunday\n",
        "\n",
        "# Count the number of repositories created by each user on weekends\n",
        "weekend_repo_counts = weekend_repos['login'].value_counts().head(5)\n",
        "\n",
        "# Get the top 5 users' logins in a comma-separated format\n",
        "top_5_weekend_creators = ','.join(weekend_repo_counts.index)\n",
        "\n",
        "top_5_weekend_creators\n"
      ],
      "metadata": {
        "colab": {
          "base_uri": "https://localhost:8080/",
          "height": 35
        },
        "id": "HtTlnP3CzXkx",
        "outputId": "41ce8294-c54d-4756-c10f-a7a3bbd2b2ed"
      },
      "execution_count": 31,
      "outputs": [
        {
          "output_type": "execute_result",
          "data": {
            "text/plain": [
              "'nilportugues,kinow,ajsb85,vfarcic,wlsf82'"
            ],
            "application/vnd.google.colaboratory.intrinsic+json": {
              "type": "string"
            }
          },
          "metadata": {},
          "execution_count": 31
        }
      ]
    },
    {
      "cell_type": "markdown",
      "source": [
        "15. Do people who are hireable share their email addresses more often?"
      ],
      "metadata": {
        "id": "Z5dVVCKT9THT"
      }
    },
    {
      "cell_type": "code",
      "source": [
        "# Drop rows with NaN values in 'hireable' column\n",
        "users_df = users_df.dropna(subset=['hireable'])\n",
        "\n",
        "# Convert 'hireable' to boolean values\n",
        "users_df['hireable'] = users_df['hireable'].astype(bool)\n",
        "\n",
        "# Calculate the fraction of hireable and non-hireable users with an email\n",
        "fraction_hireable_with_email = users_df[users_df['hireable']]['email'].notna().mean()\n",
        "fraction_non_hireable_with_email = users_df[~users_df['hireable']]['email'].notna().mean()\n",
        "\n",
        "# Calculate the difference and round to 3 decimal places\n",
        "email_share_difference = round(fraction_hireable_with_email - fraction_non_hireable_with_email, 3)\n",
        "\n",
        "email_share_difference\n",
        "\n"
      ],
      "metadata": {
        "colab": {
          "base_uri": "https://localhost:8080/"
        },
        "id": "QGCvoP2y0MkO",
        "outputId": "7c48acfa-60bc-45b3-f5c9-3aa9f7591a57"
      },
      "execution_count": 40,
      "outputs": [
        {
          "output_type": "execute_result",
          "data": {
            "text/plain": [
              "nan"
            ]
          },
          "metadata": {},
          "execution_count": 40
        }
      ]
    },
    {
      "cell_type": "markdown",
      "source": [
        "16. Let's assume that the last word in a user's name is their surname (ignore missing names, trim and split by whitespace.) What's the most common surname? (If there's a tie, list them all, comma-separated, alphabetically)"
      ],
      "metadata": {
        "id": "WBpAr-2l9WtU"
      }
    },
    {
      "cell_type": "code",
      "source": [
        "import pandas as pd\n",
        "\n",
        "# Load the users dataset\n",
        "users_df = pd.read_csv('users.csv')\n",
        "\n",
        "# Filter out rows with missing names\n",
        "users_with_names = users_df.dropna(subset=['name'])\n",
        "\n",
        "# Extract the last word as surname (trim and split by whitespace)\n",
        "users_with_names['surname'] = users_with_names['name'].str.strip().apply(lambda x: x.split()[-1])\n",
        "\n",
        "# Count the occurrences of each surname\n",
        "surname_counts = users_with_names['surname'].value_counts()\n",
        "\n",
        "# Find the highest frequency\n",
        "max_count = surname_counts.max()\n",
        "\n",
        "# Get all surnames with the highest frequency, sort alphabetically, and join with commas\n",
        "most_common_surnames = ','.join(sorted(surname_counts[surname_counts == max_count].index))\n",
        "\n",
        "most_common_surnames\n"
      ],
      "metadata": {
        "colab": {
          "base_uri": "https://localhost:8080/",
          "height": 140
        },
        "id": "nWm4lLkA0qPf",
        "outputId": "55e33030-3611-4e35-91d1-efb3f56c49a4"
      },
      "execution_count": 36,
      "outputs": [
        {
          "output_type": "stream",
          "name": "stderr",
          "text": [
            "<ipython-input-36-da8fa9a89dc2>:10: SettingWithCopyWarning: \n",
            "A value is trying to be set on a copy of a slice from a DataFrame.\n",
            "Try using .loc[row_indexer,col_indexer] = value instead\n",
            "\n",
            "See the caveats in the documentation: https://pandas.pydata.org/pandas-docs/stable/user_guide/indexing.html#returning-a-view-versus-a-copy\n",
            "  users_with_names['surname'] = users_with_names['name'].str.strip().apply(lambda x: x.split()[-1])\n"
          ]
        },
        {
          "output_type": "execute_result",
          "data": {
            "text/plain": [
              "'Martínez,Ortiz'"
            ],
            "application/vnd.google.colaboratory.intrinsic+json": {
              "type": "string"
            }
          },
          "metadata": {},
          "execution_count": 36
        }
      ]
    }
  ]
}